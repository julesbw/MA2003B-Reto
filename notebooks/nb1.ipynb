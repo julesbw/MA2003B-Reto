{
 "cells": [
  {
   "cell_type": "markdown",
   "id": "c8068fc7",
   "metadata": {},
   "source": [
    "# Análisis Explotario de los Datos"
   ]
  },
  {
   "cell_type": "code",
   "execution_count": 25,
   "id": "3b136b3c",
   "metadata": {},
   "outputs": [],
   "source": [
    "import pandas as pd\n",
    "import numpy as np"
   ]
  },
  {
   "cell_type": "code",
   "execution_count": null,
   "id": "445e1434",
   "metadata": {},
   "outputs": [],
   "source": [
    "datos_20_21 = pd.read_excel('../datos/DATOS HISTÓRICOS 2020_2021_TODAS ESTACIONES.xlsx', sheet_name=None)\n",
    "datos_22_23 = pd.read_excel('../datos/DATOS HISTÓRICOS 2022_2023_TODAS ESTACIONES.xlsx', sheet_name=None)"
   ]
  },
  {
   "cell_type": "code",
   "execution_count": 51,
   "id": "783d3846",
   "metadata": {},
   "outputs": [],
   "source": [
    "datos_23_24 = pd.read_excel('../datos/DATOS HISTÓRICOS 2023_2024_TODAS ESTACIONES_ITESM.xlsx', sheet_name=None)"
   ]
  },
  {
   "cell_type": "code",
   "execution_count": 27,
   "id": "3a7a57d1",
   "metadata": {},
   "outputs": [
    {
     "name": "stdout",
     "output_type": "stream",
     "text": [
      "dict_keys(['SURESTE', 'NORESTE', 'CENTRO', 'NOROESTE', 'SUROESTE', 'NOROESTE2', 'NORTE', 'SUROESTE2', 'SURESTE2', 'SURESTE3', 'SUR', 'NORTE2', 'NORESTE2', 'NORESTE3', 'NOROESTE3', 'CATÁLOGO'])\n"
     ]
    }
   ],
   "source": [
    "print(datos_20_21.keys())\n"
   ]
  },
  {
   "cell_type": "code",
   "execution_count": 52,
   "id": "b30a3228",
   "metadata": {},
   "outputs": [
    {
     "name": "stdout",
     "output_type": "stream",
     "text": [
      "dict_keys(['SURESTE', 'NORESTE', 'CENTRO', 'NOROESTE', 'SUROESTE', 'NOROESTE2', 'NORTE', 'SUROESTE2', 'SURESTE2', 'SURESTE3', 'SUR', 'NORTE2', 'NORESTE2', 'NORESTE3', 'NOROESTE3', 'CATÁLOGO'])\n",
      "dict_keys(['Param_horarios_Estaciones', 'Hoja2'])\n"
     ]
    }
   ],
   "source": [
    "print(datos_22_23.keys())\n",
    "print(datos_23_24.keys())"
   ]
  },
  {
   "cell_type": "code",
   "execution_count": 28,
   "id": "da4b9480",
   "metadata": {},
   "outputs": [
    {
     "name": "stdout",
     "output_type": "stream",
     "text": [
      "                     date    CO   NO   NO2   NOX    O3   PM10  PM2.5    PRS  \\\n",
      "0     2020-01-01 00:00:00   NaN  NaN   NaN   NaN   NaN    NaN    NaN    NaN   \n",
      "1     2020-01-01 01:00:00   NaN  NaN   NaN   NaN   NaN   20.0   11.0  708.5   \n",
      "2     2020-01-01 02:00:00   NaN  NaN   NaN   NaN   NaN   24.0    NaN  707.8   \n",
      "3     2020-01-01 03:00:00   NaN  NaN   NaN   NaN   NaN   39.0   31.0  707.3   \n",
      "4     2020-01-01 04:00:00   NaN  NaN   NaN   NaN   NaN   23.0   12.0  707.0   \n",
      "...                   ...   ...  ...   ...   ...   ...    ...    ...    ...   \n",
      "17529 2021-12-31 19:00:00  1.28  2.5  14.9  17.2  78.0   58.0    NaN  704.9   \n",
      "17530 2021-12-31 20:00:00  1.48  2.6  26.2  28.5  54.0   63.0   20.0  705.3   \n",
      "17531 2021-12-31 21:00:00  1.61  2.6  28.3  30.7  39.0   79.0   47.0  705.7   \n",
      "17532 2021-12-31 22:00:00  1.79  2.8  33.5  36.1  19.0   80.0   61.0  706.0   \n",
      "17533 2021-12-31 23:00:00  1.99  3.3  34.4  37.4  11.0  106.0   79.0  706.0   \n",
      "\n",
      "       RAINF    RH  SO2     SR   TOUT  WSR    WDR  \n",
      "0        NaN   NaN  NaN  0.000    NaN  NaN    NaN  \n",
      "1        0.0  95.0  NaN  0.003  10.79  2.3  209.0  \n",
      "2        0.0  95.0  NaN  0.003  10.71  2.2   98.0  \n",
      "3        0.0  95.0  NaN  0.003  10.98  2.2  151.0  \n",
      "4        0.0  95.0  NaN  0.003  11.13  2.2  100.0  \n",
      "...      ...   ...  ...    ...    ...  ...    ...  \n",
      "17529    0.0  39.0  4.2  0.001  26.17  6.9  180.0  \n",
      "17530    0.0  45.0  3.9  0.001  24.31  7.1  118.0  \n",
      "17531    0.0  49.0  3.5  0.001  23.00  4.7  218.0  \n",
      "17532    0.0  57.0  3.2  0.001  20.70  3.0  173.0  \n",
      "17533    0.0  62.0  3.0  0.001  19.82  3.7  285.0  \n",
      "\n",
      "[17534 rows x 16 columns]\n",
      "(17535, 16)\n"
     ]
    }
   ],
   "source": [
    "print(datos_20_21['SUR'])\n",
    "print(datos_20_21['NORESTE'].shape)"
   ]
  },
  {
   "cell_type": "code",
   "execution_count": 29,
   "id": "4e06f7ed",
   "metadata": {},
   "outputs": [
    {
     "name": "stdout",
     "output_type": "stream",
     "text": [
      "                  date    CO  NO  NO2  NOX    O3  PM10  PM2.5    PRS  RAINF  \\\n",
      "20 2020-01-01 20:00:00  1.84 NaN  NaN  NaN  21.0   9.0   4.49  731.4   0.06   \n",
      "21 2020-01-01 21:00:00  1.76 NaN  NaN  NaN  28.0  10.0   3.02  731.4   0.07   \n",
      "22 2020-01-01 22:00:00  1.71 NaN  NaN  NaN  32.0  10.0   2.15  731.0   0.06   \n",
      "23 2020-01-01 23:00:00  1.71 NaN  NaN  NaN  30.0   9.0    NaN  730.5   0.00   \n",
      "24 2020-01-02 00:00:00  1.74 NaN  NaN  NaN  27.0  10.0    NaN  729.8   0.00   \n",
      "\n",
      "      RH  SO2     SR   TOUT   WSR  WDR  \n",
      "20  89.0  5.4  0.010  13.84   9.1  NaN  \n",
      "21  89.0  5.3  0.010  13.60  13.3  NaN  \n",
      "22  86.0  5.2  0.010  13.64  14.1  NaN  \n",
      "23  84.0  5.2  0.010  13.66   9.5  NaN  \n",
      "24  83.0  5.3  0.009  13.68  10.1  NaN  \n",
      "Tamaño: (17538, 16)\n"
     ]
    }
   ],
   "source": [
    "print(datos_20_21['SURESTE'][20:25])\n",
    "print(\"Tamaño: \" + str(datos_20_21['SURESTE'].shape))"
   ]
  },
  {
   "cell_type": "code",
   "execution_count": 30,
   "id": "a538b8cc",
   "metadata": {},
   "outputs": [
    {
     "name": "stdout",
     "output_type": "stream",
     "text": [
      "SURESTE: (17538, 16)\n",
      "NORESTE: (17535, 16)\n",
      "CENTRO: (17536, 16)\n",
      "NOROESTE: (17537, 16)\n",
      "SUROESTE: (17537, 16)\n",
      "NOROESTE2: (17535, 16)\n",
      "NORTE: (17536, 16)\n",
      "SUROESTE2: (17535, 16)\n",
      "SURESTE2: (17536, 16)\n",
      "SURESTE3: (17535, 16)\n",
      "SUR: (17534, 16)\n",
      "NORTE2: (17535, 16)\n",
      "NORESTE2: (17535, 16)\n",
      "NORESTE3: (17542, 16)\n",
      "NOROESTE3: (0, 1)\n",
      "CATÁLOGO: (15, 3)\n"
     ]
    }
   ],
   "source": [
    "for key in datos_20_21.keys():\n",
    "    print(f\"{key}: {datos_20_21[key].shape}\")"
   ]
  },
  {
   "cell_type": "code",
   "execution_count": 41,
   "id": "b15a388b",
   "metadata": {},
   "outputs": [
    {
     "name": "stdout",
     "output_type": "stream",
     "text": [
      "            Nombre_Estacion      Clave_Estacion                location\n",
      "0        Noreste3 Pesqueria           Pesqueria   25.791343,-100.078176\n",
      "1        Norte2 Universidad         Universidad   25.729787,-100.310028\n",
      "2      Noroeste San Bernabé         San Bernabé    25.75712,-100.365974\n",
      "3         Noroeste 2 Garcia              Garcia   25.783331,-100.585833\n",
      "4           Centro Obispado            Obispado    25.67602,-100.335847\n",
      "5        Sureste3 Cadereyta           Cadereyta     25.60087,-99.995334\n",
      "6       Suroeste2 San Pedro           San Pedro    25.66528,-100.412778\n",
      "7                       Sur  Preparatoria ITESM   25.575383,-100.249371\n",
      "8       Noreste San Nicolas         San Nicolas    25.74543,-100.255020\n",
      "9         Noroeste 3 Garcia     Mision San Juan  25.785307, -100.463958\n",
      "10         Sureste 2 Juarez              Juarez    25.64611,-100.095555\n",
      "11  Suroeste Santa Catarina      Santa Catarina   25.675356,-100.460037\n",
      "12           Norte Escobedo            Escobedo    25.80194,-100.343056\n",
      "13        Noreste 2 Apodaca             Apodaca    25.77722,-100.188055\n",
      "14           Sureste Tec NL   Tec de Nuevo León    25.66827,-100.249580\n"
     ]
    }
   ],
   "source": [
    "print(datos_20_21['CATÁLOGO'])"
   ]
  },
  {
   "cell_type": "code",
   "execution_count": 60,
   "id": "00f91eb2",
   "metadata": {},
   "outputs": [
    {
     "name": "stdout",
     "output_type": "stream",
     "text": [
      "           date    CO    NO   NO2   NOX   O3   PM10  PM2.5    PRS  RAINF  \\\n",
      "8760 2023-01-01  2.37  54.5  32.6  87.1  3.0  110.0   68.0  721.7    0.0   \n",
      "\n",
      "        RH  SO2   SR   TOUT  WSR    WDR  \n",
      "8760  68.0  3.5  0.0  16.39  3.2  257.0  \n"
     ]
    }
   ],
   "source": [
    "#print(datos_22_23['SURESTE'][8760])\n",
    "print(datos_22_23[\"SURESTE\"][datos_22_23[\"SURESTE\"]['date']=='01/01/2023  00:00:00'])"
   ]
  },
  {
   "cell_type": "code",
   "execution_count": null,
   "id": "bda891b8",
   "metadata": {},
   "outputs": [],
   "source": [
    "def unir_dataframes_con_clave(dfs_dict):\n",
    "    \"\"\"\n",
    "    Une los dataframes de un diccionario y añade una columna 'region' con la clave del diccionario.\n",
    "    Args:\n",
    "        dfs_dict (dict): Diccionario con nombre de región como clave y dataframe como valor.\n",
    "    Returns:\n",
    "        pd.DataFrame: Dataframe unido con columna 'region'.\n",
    "    \"\"\"\n",
    "    dfs_con_region = []\n",
    "    for key in dfs_dict.keys():\n",
    "        df = dfs_dict[key]\n",
    "        if isinstance(df, pd.DataFrame) and not df.empty and key != 'CATÁLOGO':\n",
    "            df_copia = df.copy()\n",
    "            df_copia['region'] = key\n",
    "            dfs_con_region.append(df_copia)\n",
    "    return pd.concat(dfs_con_region, ignore_index=True)"
   ]
  },
  {
   "cell_type": "code",
   "execution_count": null,
   "id": "3c7e72df",
   "metadata": {},
   "outputs": [],
   "source": [
    "datos_20_21_reg = unir_dataframes_con_clave(datos_20_21)\n",
    "datos_22_23_reg = unir_dataframes_con_clave(datos_22_23)\n"
   ]
  },
  {
   "cell_type": "code",
   "execution_count": null,
   "id": "3358c8ad",
   "metadata": {},
   "outputs": [],
   "source": [
    "datos_23_24_reg = unir_dataframes_con_clave(datos_23_24)"
   ]
  }
 ],
 "metadata": {
  "kernelspec": {
   "display_name": ".venv",
   "language": "python",
   "name": "python3"
  },
  "language_info": {
   "codemirror_mode": {
    "name": "ipython",
    "version": 3
   },
   "file_extension": ".py",
   "mimetype": "text/x-python",
   "name": "python",
   "nbconvert_exporter": "python",
   "pygments_lexer": "ipython3",
   "version": "3.11.4"
  }
 },
 "nbformat": 4,
 "nbformat_minor": 5
}
